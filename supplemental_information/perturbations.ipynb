{
 "cells": [
  {
   "cell_type": "markdown",
   "metadata": {},
   "source": [
    "# CDK8 perturbations\n",
    "This notebook shows the molecules in the transformations run for figure 6 and 7 of the manuscript \"IMERGE-FEP: Improving Relative Free Energy Calculation Convergence with Chemical Intermediates\""
   ]
  }
 ],
 "metadata": {
  "language_info": {
   "name": "python"
  }
 },
 "nbformat": 4,
 "nbformat_minor": 2
}
