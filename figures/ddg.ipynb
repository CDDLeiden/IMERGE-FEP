{
 "cells": [
  {
   "cell_type": "code",
   "execution_count": 2,
   "metadata": {},
   "outputs": [],
   "source": [
    "import json\n",
    "import numpy as np\n",
    "import pandas as pd\n",
    "\n",
    "import matplotlib.pyplot as plt\n",
    "from collections import defaultdict\n",
    "import math"
   ]
  },
  {
   "cell_type": "code",
   "execution_count": 3,
   "metadata": {},
   "outputs": [],
   "source": [
    "with open('../data/ddg.json') as file:\n",
    "    file_contents = file.read()\n",
    "    ddg_dict = json.loads(file_contents)\n",
    "\n",
    "with open('../data/ddg_err.json') as file:\n",
    "    file_contents = file.read()\n",
    "    ddg_err_dict = json.loads(file_contents)\n",
    "\n",
    "with open('../data/ddg_half.json') as file:\n",
    "    file_contents = file.read()\n",
    "    ddg_dict_half = json.loads(file_contents)\n",
    "\n",
    "with open('../data/ddg_err_half.json') as file:\n",
    "    file_contents = file.read()\n",
    "    ddg_err_dict_half = json.loads(file_contents)"
   ]
  },
  {
   "cell_type": "code",
   "execution_count": 4,
   "metadata": {},
   "outputs": [],
   "source": [
    "ddg_sum = defaultdict()\n",
    "dg_err_vac_sum = defaultdict()\n",
    "dg_err_wat_sum = defaultdict()\n",
    "ddg_err_sum = defaultdict()\n",
    "conv_vac_sum = defaultdict()\n",
    "conv_wat_sum = defaultdict()\n",
    "\n",
    "for key, value in ddg_dict.items():\n",
    "    if key[-3] not in ddg_sum:\n",
    "        ddg_sum[key[-3]] = {'0': {}, '1': {}, '2': {}}\n",
    "    if \"B\" in key.split(\"_\")[-1]:\n",
    "        ddg_sum[key[-3]]['0']['P'] = value\n",
    "        ddg_sum[key[-3]]['0']['Abbrev_P'] = f'{key[-3]}PA->{key[-3]}PB'\n",
    "\n",
    "for key, value in ddg_dict_half.items():\n",
    "    if 'I' not in ddg_sum[key[-3]][key[-1]]:\n",
    "        if key[-5] == \"A\":\n",
    "            ddg_sum[key[-3]][key[-1]]['I'] = value\n",
    "        else:\n",
    "            ddg_sum[key[-3]][key[-1]]['I'] = -value\n",
    "    else:\n",
    "        if key[-5] == \"A\":\n",
    "            ddg_sum[key[-3]][key[-1]]['I'] += value\n",
    "        else:\n",
    "            ddg_sum[key[-3]][key[-1]]['I'] += -value\n",
    "    ddg_sum[key[-3]][str(\n",
    "        int(key[-1])\n",
    "    )]['Abbrev_I'] = f'{key[-3]}I{str(int(key[-1]))}'\n",
    "\n",
    "for key, value in ddg_err_dict.items():\n",
    "    if key[-3] not in ddg_err_sum:\n",
    "        ddg_err_sum[key[-3]] = {'0':{}, '1':{}, '2':{}}\n",
    "    if \"B\" in key.split(\"_\")[-1]:\n",
    "        ddg_err_sum[key[-3]]['0']['P'] = value\n",
    "\n",
    "for key, value in ddg_err_dict_half.items():\n",
    "    if 'I' not in ddg_err_sum[key[-3]][key[-1]]:\n",
    "        ddg_err_sum[key[-3]][key[-1]]['I'] = value\n",
    "    else:\n",
    "        ddg_err_sum[key[-3]][key[-1]]['I'] = math.sqrt(ddg_err_sum[key[-3]][key[-1]]['I']**2 + value**2)\n"
   ]
  },
  {
   "cell_type": "code",
   "execution_count": 5,
   "metadata": {},
   "outputs": [],
   "source": [
    "df_ddg = pd.DataFrame.from_dict({(i,j): ddg_sum[i][j] \n",
    "                           for i in ddg_sum.keys() \n",
    "                           for j in ddg_sum[i].keys()},\n",
    "                       orient='index')\n",
    "\n",
    "df_ddg_err = pd.DataFrame.from_dict({(i,j): ddg_err_sum[i][j] \n",
    "                           for i in ddg_sum.keys() \n",
    "                           for j in ddg_sum[i].keys()},\n",
    "                       orient='index').add_suffix('_std')"
   ]
  },
  {
   "cell_type": "code",
   "execution_count": 6,
   "metadata": {},
   "outputs": [],
   "source": [
    "df = df_ddg.join([df_ddg_err])"
   ]
  },
  {
   "cell_type": "code",
   "execution_count": 7,
   "metadata": {},
   "outputs": [
    {
     "data": {
      "text/plain": [
       "array([1., 2., 3., 4., 5., 6., 7.])"
      ]
     },
     "execution_count": 7,
     "metadata": {},
     "output_type": "execute_result"
    }
   ],
   "source": [
    "np.array([float(x) for x in df.loc(axis=0)[:, str(0)].index.get_level_values(0)])"
   ]
  },
  {
   "cell_type": "code",
   "execution_count": 8,
   "metadata": {},
   "outputs": [
    {
     "data": {
      "text/plain": [
       "array([0., 1., 2., 3., 4., 5., 6.])"
      ]
     },
     "execution_count": 8,
     "metadata": {},
     "output_type": "execute_result"
    }
   ],
   "source": [
    "np.arange(float(max(df.index)[0])) "
   ]
  },
  {
   "cell_type": "code",
   "execution_count": 12,
   "metadata": {},
   "outputs": [
    {
     "data": {
      "image/png": "[encoded data removed]",
      "text/plain": [
       "<Figure size 800x500 with 1 Axes>"
      ]
     },
     "metadata": {},
     "output_type": "display_data"
    }
   ],
   "source": [
    "fig, ax = plt.subplots(layout='constrained', figsize=(8,5))\n",
    "\n",
    "x = np.arange(float(max(df.index)[0]))  # the label locations\n",
    "width = 0.2  # the width of the bars\n",
    "multiplier = 0\n",
    "colors = [\"#5790fc\", \"#f89c20\", \"#e42536\", \"#964a8b\", \"#9c9ca1\", \"#7a21dd\"]\n",
    "\n",
    "for i, (values, stds) in enumerate([('P', 'P_std'), ('I', 'I_std'), ('I', 'I_std'), ('I', 'I_std')]):\n",
    "    n = i\n",
    "    if values == \"I\":\n",
    "        n = i - 1\n",
    "    offset = width * multiplier\n",
    "    x = np.array([float(x) for x in df.loc(axis=0)[:, str(n)].index.get_level_values(0)])\n",
    "    rects = ax.bar(x + offset, df.loc(axis=0)[:, str(n)][values].values, width, yerr=df.loc(axis=0)[:, str(n)][stds].values, label=values, capsize=2, color=colors[i])\n",
    "    # ax.bar_label(rects, padding=3)\n",
    "    multiplier += 1\n",
    "\n",
    "\n",
    "# Add some text for labels, title and custom x-axis tick labels, etc.\n",
    "ax.set_ylabel('ΔΔG (kcal/mol)')\n",
    "x = np.arange(1, float(max(df.index)[0])+1) \n",
    "ax.set_xticks(x + width, [f'Set {str(int(y))}' for y in x])#, ['LOMAP', 'ROCS', \"Tanimoto\"])\n",
    "ax.legend(loc='upper left', labels=[\"parent\", \"intermediate 0\", \"intermediate 1\", \"intermediate 2\"])\n",
    "# ax.set_ylim(0, 1)\n",
    "# ax.set_xticks([])\n",
    "\n",
    "plt.show()"
   ]
  }
 ],
 "metadata": {
  "kernelspec": {
   "display_name": "rdkit_2023_9_1",
   "language": "python",
   "name": "python3"
  },
  "language_info": {
   "codemirror_mode": {
    "name": "ipython",
    "version": 3
   },
   "file_extension": ".py",
   "mimetype": "text/x-python",
   "name": "python",
   "nbconvert_exporter": "python",
   "pygments_lexer": "ipython3",
   "version": "3.12.0"
  }
 },
 "nbformat": 4,
 "nbformat_minor": 2
}
