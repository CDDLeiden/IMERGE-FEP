{
 "cells": [
  {
   "cell_type": "code",
   "execution_count": 24,
   "metadata": {},
   "outputs": [],
   "source": [
    "import matplotlib.pyplot as plt\n",
    "import pandas as pd\n",
    "import numpy as np\n",
    "from rgroupinterm.pruners import BasePruner, HarmonicMeanTransformer\n",
    "import scipy\n",
    "rng = np.random.default_rng()"
   ]
  },
  {
   "cell_type": "code",
   "execution_count": 53,
   "metadata": {},
   "outputs": [],
   "source": [
    "def get_harmonicmean(df, score_column):\n",
    "    df_score = df[[x for x in df.columns if score_column in x]]\n",
    "\n",
    "    pruner = BasePruner([], [HarmonicMeanTransformer()])\n",
    "    scored_df = pruner(df_score)\n",
    "    scored_df['Pair'] = df['Pair']\n",
    "    scored_df['Set'] = df['Set']\n",
    "    mean = scored_df['score'].mean()\n",
    "    mean_ci = scipy.stats.bootstrap((scored_df['score'].values,), np.average, confidence_level=0.95,\n",
    "                random_state=rng).standard_error * 1.96\n",
    "    average_max = scored_df.groupby(['Set','Pair']).max()['score'].mean()\n",
    "    average_max_ci = scipy.stats.bootstrap((scored_df.groupby(['Set','Pair']).max()['score'].values,), np.average, confidence_level=0.95,\n",
    "                random_state=rng).standard_error * 1.96\n",
    "\n",
    "    return mean, np.array(mean_ci), average_max, np.array(average_max_ci), scored_df\n"
   ]
  },
  {
   "cell_type": "code",
   "execution_count": 26,
   "metadata": {},
   "outputs": [],
   "source": [
    "df = pd.read_csv('../data/jacs_scored_new.csv')\n",
    "df_p = pd.read_csv('../data/jacs_score_parents_new.csv')"
   ]
  },
  {
   "cell_type": "code",
   "execution_count": 54,
   "metadata": {},
   "outputs": [
    {
     "name": "stderr",
     "output_type": "stream",
     "text": [
      "/home/linde/miniforge3/envs/rdkit_2023_9_1/lib/python3.12/site-packages/rgroupinterm/pruners.py:423: FutureWarning: Series.__getitem__ treating keys as positions is deprecated. In a future version, integer keys will always be treated as labels (consistent with DataFrame behavior). To access a value by position, use `ser.iloc[pos]`\n",
      "  score = 2 * (scores[0]**self.exponent * scores[1]**self.exponent) / (\n",
      "/home/linde/miniforge3/envs/rdkit_2023_9_1/lib/python3.12/site-packages/rgroupinterm/pruners.py:424: FutureWarning: Series.__getitem__ treating keys as positions is deprecated. In a future version, integer keys will always be treated as labels (consistent with DataFrame behavior). To access a value by position, use `ser.iloc[pos]`\n",
      "  scores[0]**self.exponent + scores[1]**self.exponent)\n",
      "/home/linde/miniforge3/envs/rdkit_2023_9_1/lib/python3.12/site-packages/rgroupinterm/pruners.py:423: FutureWarning: Series.__getitem__ treating keys as positions is deprecated. In a future version, integer keys will always be treated as labels (consistent with DataFrame behavior). To access a value by position, use `ser.iloc[pos]`\n",
      "  score = 2 * (scores[0]**self.exponent * scores[1]**self.exponent) / (\n",
      "/home/linde/miniforge3/envs/rdkit_2023_9_1/lib/python3.12/site-packages/rgroupinterm/pruners.py:424: FutureWarning: Series.__getitem__ treating keys as positions is deprecated. In a future version, integer keys will always be treated as labels (consistent with DataFrame behavior). To access a value by position, use `ser.iloc[pos]`\n",
      "  scores[0]**self.exponent + scores[1]**self.exponent)\n",
      "/home/linde/miniforge3/envs/rdkit_2023_9_1/lib/python3.12/site-packages/rgroupinterm/pruners.py:423: FutureWarning: Series.__getitem__ treating keys as positions is deprecated. In a future version, integer keys will always be treated as labels (consistent with DataFrame behavior). To access a value by position, use `ser.iloc[pos]`\n",
      "  score = 2 * (scores[0]**self.exponent * scores[1]**self.exponent) / (\n",
      "/home/linde/miniforge3/envs/rdkit_2023_9_1/lib/python3.12/site-packages/rgroupinterm/pruners.py:424: FutureWarning: Series.__getitem__ treating keys as positions is deprecated. In a future version, integer keys will always be treated as labels (consistent with DataFrame behavior). To access a value by position, use `ser.iloc[pos]`\n",
      "  scores[0]**self.exponent + scores[1]**self.exponent)\n"
     ]
    }
   ],
   "source": [
    "scores = [\"Lomap\", \"ROCS\", \"Tanimoto\"]\n",
    "df_plot = pd.DataFrame(columns=['Parents', 'Intermediate (mean)', 'Intermediate (max)', 'Parents ci', 'Intermediate ci (mean)', 'Intermediate ci (max)'])\n",
    "for score in scores:\n",
    "    mean, mean_std, average_max, average_max_std, _ = get_harmonicmean(df, f'raw_score_{score}')\n",
    "    \n",
    "    mean_p = df_p[f'raw_score_{score}_p'].mean()\n",
    "    ci_p = scipy.stats.bootstrap((df_p[f'raw_score_{score}_p'].values,), np.average, confidence_level=0.95,\n",
    "                random_state=rng).standard_error * 1.96\n",
    "\n",
    "    df_plot.loc[len(df_plot.index)] = [mean_p, mean, average_max, np.array(ci_p), mean_std, average_max_std]"
   ]
  },
  {
   "cell_type": "code",
   "execution_count": 55,
   "metadata": {},
   "outputs": [
    {
     "data": {
      "text/html": [
       "<div>\n",
       "<style scoped>\n",
       "    .dataframe tbody tr th:only-of-type {\n",
       "        vertical-align: middle;\n",
       "    }\n",
       "\n",
       "    .dataframe tbody tr th {\n",
       "        vertical-align: top;\n",
       "    }\n",
       "\n",
       "    .dataframe thead th {\n",
       "        text-align: right;\n",
       "    }\n",
       "</style>\n",
       "<table border=\"1\" class=\"dataframe\">\n",
       "  <thead>\n",
       "    <tr style=\"text-align: right;\">\n",
       "      <th></th>\n",
       "      <th>Parents</th>\n",
       "      <th>Intermediate (mean)</th>\n",
       "      <th>Intermediate (max)</th>\n",
       "      <th>Parents ci</th>\n",
       "      <th>Intermediate ci (mean)</th>\n",
       "      <th>Intermediate ci (max)</th>\n",
       "    </tr>\n",
       "  </thead>\n",
       "  <tbody>\n",
       "    <tr>\n",
       "      <th>0</th>\n",
       "      <td>0.340598</td>\n",
       "      <td>0.475385</td>\n",
       "      <td>0.505764</td>\n",
       "      <td>0.007102874346786224</td>\n",
       "      <td>0.0027444831087618696</td>\n",
       "      <td>0.007098981940689924</td>\n",
       "    </tr>\n",
       "    <tr>\n",
       "      <th>1</th>\n",
       "      <td>0.739004</td>\n",
       "      <td>0.817999</td>\n",
       "      <td>0.855480</td>\n",
       "      <td>0.0035966629999345115</td>\n",
       "      <td>0.0012266113441332463</td>\n",
       "      <td>0.0021430842456349832</td>\n",
       "    </tr>\n",
       "    <tr>\n",
       "      <th>2</th>\n",
       "      <td>0.426984</td>\n",
       "      <td>0.528417</td>\n",
       "      <td>0.579359</td>\n",
       "      <td>0.0026764355035054465</td>\n",
       "      <td>0.0009413734325621982</td>\n",
       "      <td>0.001610063439118947</td>\n",
       "    </tr>\n",
       "  </tbody>\n",
       "</table>\n",
       "</div>"
      ],
      "text/plain": [
       "    Parents  Intermediate (mean)  Intermediate (max)             Parents ci  \\\n",
       "0  0.340598             0.475385            0.505764   0.007102874346786224   \n",
       "1  0.739004             0.817999            0.855480  0.0035966629999345115   \n",
       "2  0.426984             0.528417            0.579359  0.0026764355035054465   \n",
       "\n",
       "  Intermediate ci (mean)  Intermediate ci (max)  \n",
       "0  0.0027444831087618696   0.007098981940689924  \n",
       "1  0.0012266113441332463  0.0021430842456349832  \n",
       "2  0.0009413734325621982   0.001610063439118947  "
      ]
     },
     "execution_count": 55,
     "metadata": {},
     "output_type": "execute_result"
    }
   ],
   "source": [
    "df_plot "
   ]
  },
  {
   "cell_type": "code",
   "execution_count": 57,
   "metadata": {},
   "outputs": [
    {
     "data": {
      "image/png": "[encoded data removed]",
      "text/plain": [
       "<Figure size 640x480 with 1 Axes>"
      ]
     },
     "metadata": {},
     "output_type": "display_data"
    }
   ],
   "source": [
    "fig, ax = plt.subplots(layout='constrained')\n",
    "\n",
    "x = np.arange(len(scores))  # the label locations\n",
    "width = 0.25  # the width of the bars\n",
    "multiplier = 0\n",
    "\n",
    "for values, stds in [('Parents', 'Parents ci'), ('Intermediate (mean)', 'Intermediate ci (mean)'), ('Intermediate (max)', 'Intermediate ci (max)')]:\n",
    "    offset = width * multiplier\n",
    "    rects = ax.bar(x + offset, df_plot[values].values, width, yerr=df_plot[stds].values, label=values, capsize=2)\n",
    "    # ax.bar_label(rects, padding=3)\n",
    "    multiplier += 1\n",
    "\n",
    "\n",
    "# Add some text for labels, title and custom x-axis tick labels, etc.\n",
    "ax.set_ylabel('Similarity score')\n",
    "ax.set_xticks(x + width, ['LOMAP', 'ROCS', \"Tanimoto\"])\n",
    "ax.legend(loc='upper right')\n",
    "ax.set_ylim(0, 1)\n",
    "\n",
    "plt.show()"
   ]
  },
  {
   "cell_type": "code",
   "execution_count": 4,
   "metadata": {},
   "outputs": [
    {
     "name": "stderr",
     "output_type": "stream",
     "text": [
      "/home/linde/miniforge3/envs/rdkit_2023_9_1/lib/python3.12/site-packages/rgroupinterm/pruners.py:423: FutureWarning: Series.__getitem__ treating keys as positions is deprecated. In a future version, integer keys will always be treated as labels (consistent with DataFrame behavior). To access a value by position, use `ser.iloc[pos]`\n",
      "  score = 2 * (scores[0]**self.exponent * scores[1]**self.exponent) / (\n",
      "/home/linde/miniforge3/envs/rdkit_2023_9_1/lib/python3.12/site-packages/rgroupinterm/pruners.py:424: FutureWarning: Series.__getitem__ treating keys as positions is deprecated. In a future version, integer keys will always be treated as labels (consistent with DataFrame behavior). To access a value by position, use `ser.iloc[pos]`\n",
      "  scores[0]**self.exponent + scores[1]**self.exponent)\n",
      "/home/linde/miniforge3/envs/rdkit_2023_9_1/lib/python3.12/site-packages/pandas/core/nanops.py:1010: RuntimeWarning: invalid value encountered in subtract\n",
      "  sqr = _ensure_numeric((avg - values) ** 2)\n",
      "/home/linde/miniforge3/envs/rdkit_2023_9_1/lib/python3.12/site-packages/pandas/core/nanops.py:1010: RuntimeWarning: invalid value encountered in subtract\n",
      "  sqr = _ensure_numeric((avg - values) ** 2)\n",
      "/home/linde/miniforge3/envs/rdkit_2023_9_1/lib/python3.12/site-packages/rgroupinterm/pruners.py:423: FutureWarning: Series.__getitem__ treating keys as positions is deprecated. In a future version, integer keys will always be treated as labels (consistent with DataFrame behavior). To access a value by position, use `ser.iloc[pos]`\n",
      "  score = 2 * (scores[0]**self.exponent * scores[1]**self.exponent) / (\n",
      "/home/linde/miniforge3/envs/rdkit_2023_9_1/lib/python3.12/site-packages/rgroupinterm/pruners.py:424: FutureWarning: Series.__getitem__ treating keys as positions is deprecated. In a future version, integer keys will always be treated as labels (consistent with DataFrame behavior). To access a value by position, use `ser.iloc[pos]`\n",
      "  scores[0]**self.exponent + scores[1]**self.exponent)\n",
      "/home/linde/miniforge3/envs/rdkit_2023_9_1/lib/python3.12/site-packages/rgroupinterm/pruners.py:423: FutureWarning: Series.__getitem__ treating keys as positions is deprecated. In a future version, integer keys will always be treated as labels (consistent with DataFrame behavior). To access a value by position, use `ser.iloc[pos]`\n",
      "  score = 2 * (scores[0]**self.exponent * scores[1]**self.exponent) / (\n",
      "/home/linde/miniforge3/envs/rdkit_2023_9_1/lib/python3.12/site-packages/rgroupinterm/pruners.py:424: FutureWarning: Series.__getitem__ treating keys as positions is deprecated. In a future version, integer keys will always be treated as labels (consistent with DataFrame behavior). To access a value by position, use `ser.iloc[pos]`\n",
      "  scores[0]**self.exponent + scores[1]**self.exponent)\n"
     ]
    }
   ],
   "source": [
    "scores = [\"Lomap\", \"ROCS\", \"Tanimoto\"]\n",
    "df_plot = pd.DataFrame(columns=['Intermediate (mean)', 'Intermediate (max)', 'Intermediate std (mean)', 'Intermediate std (max)'])\n",
    "for score in scores:\n",
    "    mean, mean_std, average_max, average_max_std, df_scored = get_harmonicmean(df, f'raw_score_{score}')\n",
    "    result = pd.merge(df_scored, df_p, how=\"left\", on=[\"Set\", \"Pair\"])\n",
    "    result['relative_score'] = result['score'] / result[f'raw_score_{score}_p']\n",
    "\n",
    "    mean = result['relative_score'].mean()\n",
    "    mean_std = result['relative_score'].std()\n",
    "    average_max = result.groupby(['Set','Pair']).max()['relative_score'].mean()\n",
    "    average_max_std = result.groupby(['Set','Pair']).max()['relative_score'].std()\n",
    "    df_plot.loc[len(df_plot.index)] = [mean, average_max, mean_std, average_max_std]"
   ]
  }
 ],
 "metadata": {
  "kernelspec": {
   "display_name": "rdkit_2023_9_1",
   "language": "python",
   "name": "python3"
  },
  "language_info": {
   "codemirror_mode": {
    "name": "ipython",
    "version": 3
   },
   "file_extension": ".py",
   "mimetype": "text/x-python",
   "name": "python",
   "nbconvert_exporter": "python",
   "pygments_lexer": "ipython3",
   "version": "3.12.0"
  }
 },
 "nbformat": 4,
 "nbformat_minor": 2
}
