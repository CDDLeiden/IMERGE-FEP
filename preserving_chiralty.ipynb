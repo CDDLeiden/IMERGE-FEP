{
 "cells": [
  {
   "cell_type": "code",
   "execution_count": 11,
   "metadata": {},
   "outputs": [],
   "source": [
    "import pandas as pd\n",
    "from rdkit import Chem, rdBase\n",
    "from rdkit.Chem import rdFMCS\n",
    "from rdkit.Chem import rdRGroupDecomposition as rdRGD\n",
    "\n",
    "from rgroupinterm.rgroupenumeration import EnumRGroups\n",
    "\n",
    "rdBase.DisableLog('rdApp.*')"
   ]
  },
  {
   "cell_type": "code",
   "execution_count": 12,
   "metadata": {},
   "outputs": [],
   "source": [
    "from collections import defaultdict\n",
    "\n",
    "def get_source_mapping(input_mol):\n",
    "    join_dict = {}\n",
    "    for atom in input_mol.GetAtoms():\n",
    "        map_num = atom.GetAtomMapNum()\n",
    "        if map_num > 0:\n",
    "            join_dict[map_num] = (atom)\n",
    "\n",
    "    # transfer the atom maps to the neighbor atoms\n",
    "    for idx, atom in join_dict.items():\n",
    "        nbr_1 = [x.GetOtherAtom(atom) for x in atom.GetBonds()][0]\n",
    "        nbr_1.SetAtomMapNum(idx)\n",
    "\n",
    "    # remove the dummy atoms\n",
    "    new_mol = Chem.DeleteSubstructs(input_mol, Chem.MolFromSmarts('[#0]'))\n",
    "\n",
    "    # get the new atoms with AtomMapNum, these will be connected\n",
    "    source_atom_dict = {}\n",
    "    for atom in new_mol.GetAtoms():\n",
    "        map_num = atom.GetAtomMapNum()\n",
    "        if map_num > 0:\n",
    "            if atom.HasProp(\"SourceAtomIdx\"):\n",
    "                source_atom_dict[map_num] = atom.GetIntProp(\"SourceAtomIdx\")\n",
    "\n",
    "    return source_atom_dict"
   ]
  },
  {
   "cell_type": "code",
   "execution_count": 13,
   "metadata": {},
   "outputs": [
    {
     "name": "stdout",
     "output_type": "stream",
     "text": [
      "defaultdict(<class 'dict'>, {0: {3: rdkit.Chem.rdchem.ChiralType.CHI_UNSPECIFIED, 2: rdkit.Chem.rdchem.ChiralType.CHI_UNSPECIFIED, 1: rdkit.Chem.rdchem.ChiralType.CHI_UNSPECIFIED}, 1: {2: rdkit.Chem.rdchem.ChiralType.CHI_TETRAHEDRAL_CW, 3: rdkit.Chem.rdchem.ChiralType.CHI_UNSPECIFIED, 1: rdkit.Chem.rdchem.ChiralType.CHI_UNSPECIFIED}})\n"
     ]
    }
   ],
   "source": [
    "smiles = [\n",
    "    'CC(C)(C)c1ccc2c(c1)[C@H]1OCCC[C@H]1[C@H](c1ccc(O)cc1)N2',\n",
    "    '[NH3+]C[C@H]1CC[C@@H]2[C@H](O1)c1cc(C(F)(F)F)ccc1N[C@H]2c1ccccc1'\n",
    "]\n",
    "mols = [Chem.MolFromSmiles(x) for x in smiles]\n",
    "\n",
    "for i, mol in enumerate(mols):\n",
    "    Chem.Kekulize(mol, clearAromaticFlags=True)\n",
    "    for atom in mol.GetAtoms():\n",
    "        atom.SetIntProp(\"SourceAtomIdx\",atom.GetIdx())\n",
    "        atom.SetIntProp(\"SourceMol\",i)\n",
    "\n",
    "res = rdFMCS.FindMCS(mols,\n",
    "                        matchValences=True,\n",
    "                        ringMatchesRingOnly=True,\n",
    "                        completeRingsOnly=True,\n",
    "                        timeout=2)\n",
    "core = Chem.MolFromSmarts(res.smartsString)\n",
    "\n",
    "# create dataframe with columns Core, R1, ... Rn\n",
    "res, _ = rdRGD.RGroupDecompose([core],\n",
    "                                mols,\n",
    "                                asSmiles=False,\n",
    "                                asRows=False)\n",
    "df_rgroup = pd.DataFrame(res)\n",
    "\n",
    "stereocenters = defaultdict(dict)\n",
    "# need to do twice because core only keeps atom dictionary of first input\n",
    "for i, mol in enumerate(mols):\n",
    "    res_core = df_rgroup['Core'][i] \n",
    "    mapping_dict = get_source_mapping(res_core)\n",
    "    for key, value in mapping_dict.items():\n",
    "        stereocenters[i][key] = mol.GetAtomWithIdx(value).GetChiralTag()\n",
    "print(stereocenters)"
   ]
  },
  {
   "cell_type": "code",
   "execution_count": 14,
   "metadata": {},
   "outputs": [],
   "source": [
    "# smiles = [\n",
    "#     'CC(C)(C)c1ccc2c(c1)[C@H]1OCCC[C@H]1[C@H](c1ccc(O)cc1)N2',\n",
    "#     '[NH3+]C[C@H]1CC[C@@H]2[C@H](O1)c1cc(C(F)(F)F)ccc1N[C@H]2c1ccccc1'\n",
    "# ]\n",
    "# mols = [Chem.MolFromSmiles(x) for x in smiles]\n",
    "\n",
    "generator = EnumRGroups(stereocenters)\n",
    "\n",
    "df_interm, core = generator.generate_intermediates(mols)\n",
    "intermediates = df_interm['Intermediate'].tolist()"
   ]
  },
  {
   "cell_type": "code",
   "execution_count": 15,
   "metadata": {},
   "outputs": [
    {
     "data": {
      "image/png": "[encoded data removed]",
      "text/plain": [
       "<rdkit.Chem.rdchem.Mol at 0x7f876c269690>"
      ]
     },
     "execution_count": 15,
     "metadata": {},
     "output_type": "execute_result"
    }
   ],
   "source": [
    "intermediates[2]"
   ]
  },
  {
   "cell_type": "code",
   "execution_count": 16,
   "metadata": {},
   "outputs": [
    {
     "ename": "IndexError",
     "evalue": "list index out of range",
     "output_type": "error",
     "traceback": [
      "\u001b[0;31m---------------------------------------------------------------------------\u001b[0m",
      "\u001b[0;31mIndexError\u001b[0m                                Traceback (most recent call last)",
      "\u001b[1;32m/zfsdata/data/linde/RGroupInterm/preserving_chiralty.ipynb Cell 6\u001b[0m line \u001b[0;36m2\n\u001b[1;32m      <a href='vscode-notebook-cell://ssh-remote%2B7b22686f73744e616d65223a224e65727661227d/zfsdata/data/linde/RGroupInterm/preserving_chiralty.ipynb#W4sdnNjb2RlLXJlbW90ZQ%3D%3D?line=0'>1</a>\u001b[0m \u001b[39mfrom\u001b[39;00m \u001b[39mrgroupinterm\u001b[39;00m\u001b[39m.\u001b[39;00m\u001b[39mrgroup_highlighting\u001b[39;00m \u001b[39mimport\u001b[39;00m plot_highlighted\n\u001b[0;32m----> <a href='vscode-notebook-cell://ssh-remote%2B7b22686f73744e616d65223a224e65727661227d/zfsdata/data/linde/RGroupInterm/preserving_chiralty.ipynb#W4sdnNjb2RlLXJlbW90ZQ%3D%3D?line=1'>2</a>\u001b[0m image \u001b[39m=\u001b[39m plot_highlighted(mols[\u001b[39m0\u001b[39;49m], mols[\u001b[39m1\u001b[39;49m], intermediates[\u001b[39m1\u001b[39;49m:\u001b[39m-\u001b[39;49m\u001b[39m1\u001b[39;49m], core)\n\u001b[1;32m      <a href='vscode-notebook-cell://ssh-remote%2B7b22686f73744e616d65223a224e65727661227d/zfsdata/data/linde/RGroupInterm/preserving_chiralty.ipynb#W4sdnNjb2RlLXJlbW90ZQ%3D%3D?line=2'>3</a>\u001b[0m image\n",
      "File \u001b[0;32m/zfsdata/data/linde/RGroupInterm/rgroupinterm/rgroup_highlighting.py:44\u001b[0m, in \u001b[0;36mplot_highlighted\u001b[0;34m(liga, ligb, all_intermediates, core)\u001b[0m\n\u001b[1;32m     41\u001b[0m \u001b[39m# rgroup decomposition\u001b[39;00m\n\u001b[1;32m     42\u001b[0m groups,_ \u001b[39m=\u001b[39m rdRGroupDecomposition\u001b[39m.\u001b[39mRGroupDecompose([qcore],mms,asSmiles\u001b[39m=\u001b[39m\u001b[39mFalse\u001b[39;00m,asRows\u001b[39m=\u001b[39m\u001b[39mTrue\u001b[39;00m)\n\u001b[0;32m---> 44\u001b[0m \u001b[39mreturn\u001b[39;00m Image(draw_multiple(mms,groups,qcore,\u001b[39mtuple\u001b[39m(groups[\u001b[39m0\u001b[39;49m]\u001b[39m.\u001b[39mkeys())[\u001b[39m1\u001b[39m:],nPerRow\u001b[39m=\u001b[39m\u001b[39m3\u001b[39m,subImageSize\u001b[39m=\u001b[39m(\u001b[39m300\u001b[39m,\u001b[39m250\u001b[39m)))\n",
      "\u001b[0;31mIndexError\u001b[0m: list index out of range"
     ]
    }
   ],
   "source": [
    "from rgroupinterm.rgroup_highlighting import plot_highlighted\n",
    "image = plot_highlighted(mols[0], mols[1], intermediates[1:-1], core)\n",
    "image"
   ]
  }
 ],
 "metadata": {
  "kernelspec": {
   "display_name": "rgroupinterm",
   "language": "python",
   "name": "python3"
  },
  "language_info": {
   "codemirror_mode": {
    "name": "ipython",
    "version": 3
   },
   "file_extension": ".py",
   "mimetype": "text/x-python",
   "name": "python",
   "nbconvert_exporter": "python",
   "pygments_lexer": "ipython3",
   "version": "3.10.12"
  }
 },
 "nbformat": 4,
 "nbformat_minor": 2
}
