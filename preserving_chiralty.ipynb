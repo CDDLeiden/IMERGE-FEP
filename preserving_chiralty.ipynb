{
 "cells": [
  {
   "cell_type": "code",
   "execution_count": 4,
   "metadata": {},
   "outputs": [],
   "source": [
    "import pandas as pd\n",
    "from rdkit import Chem, rdBase\n",
    "from rdkit.Chem import rdFMCS\n",
    "from rdkit.Chem import rdRGroupDecomposition as rdRGD\n",
    "\n",
    "from rgroupinterm.rgroupenumeration import EnumRGroups\n",
    "\n",
    "rdBase.DisableLog('rdApp.*')"
   ]
  },
  {
   "cell_type": "code",
   "execution_count": 5,
   "metadata": {},
   "outputs": [
    {
     "name": "stdout",
     "output_type": "stream",
     "text": [
      "{2: rdkit.Chem.rdchem.ChiralType.CHI_UNSPECIFIED, 1: rdkit.Chem.rdchem.ChiralType.CHI_UNSPECIFIED, 3: rdkit.Chem.rdchem.ChiralType.CHI_UNSPECIFIED}\n",
      "{2: rdkit.Chem.rdchem.ChiralType.CHI_UNSPECIFIED, 1: rdkit.Chem.rdchem.ChiralType.CHI_UNSPECIFIED, 3: rdkit.Chem.rdchem.ChiralType.CHI_UNSPECIFIED}\n",
      "{2: rdkit.Chem.rdchem.ChiralType.CHI_TETRAHEDRAL_CW, 1: rdkit.Chem.rdchem.ChiralType.CHI_UNSPECIFIED, 3: rdkit.Chem.rdchem.ChiralType.CHI_UNSPECIFIED}\n",
      "{2: rdkit.Chem.rdchem.ChiralType.CHI_TETRAHEDRAL_CW, 1: rdkit.Chem.rdchem.ChiralType.CHI_UNSPECIFIED, 3: rdkit.Chem.rdchem.ChiralType.CHI_UNSPECIFIED}\n",
      "{2: rdkit.Chem.rdchem.ChiralType.CHI_UNSPECIFIED, 1: rdkit.Chem.rdchem.ChiralType.CHI_UNSPECIFIED, 3: rdkit.Chem.rdchem.ChiralType.CHI_UNSPECIFIED}\n",
      "{2: rdkit.Chem.rdchem.ChiralType.CHI_UNSPECIFIED, 1: rdkit.Chem.rdchem.ChiralType.CHI_UNSPECIFIED, 3: rdkit.Chem.rdchem.ChiralType.CHI_UNSPECIFIED}\n",
      "{2: rdkit.Chem.rdchem.ChiralType.CHI_TETRAHEDRAL_CW, 1: rdkit.Chem.rdchem.ChiralType.CHI_UNSPECIFIED, 3: rdkit.Chem.rdchem.ChiralType.CHI_UNSPECIFIED}\n",
      "{2: rdkit.Chem.rdchem.ChiralType.CHI_TETRAHEDRAL_CW, 1: rdkit.Chem.rdchem.ChiralType.CHI_UNSPECIFIED, 3: rdkit.Chem.rdchem.ChiralType.CHI_UNSPECIFIED}\n"
     ]
    }
   ],
   "source": [
    "smiles = [\n",
    "    'CC(C)(C)c1ccc2c(c1)[C@H]1OCCC[C@H]1[C@H](c1ccc(O)cc1)N2',\n",
    "    '[NH3+]C[C@H]1CC[C@@H]2[C@H](O1)c1cc(C(F)(F)F)ccc1N[C@H]2c1ccccc1'\n",
    "]\n",
    "mols = [Chem.MolFromSmiles(x) for x in smiles]\n",
    "\n",
    "generator = EnumRGroups()\n",
    "\n",
    "df_interm, core = generator.generate_intermediates(mols)\n",
    "intermediates = df_interm['Intermediate'].tolist()"
   ]
  },
  {
   "cell_type": "code",
   "execution_count": 6,
   "metadata": {},
   "outputs": [
    {
     "data": {
      "text/plain": [
       "8"
      ]
     },
     "execution_count": 6,
     "metadata": {},
     "output_type": "execute_result"
    }
   ],
   "source": [
    "len(intermediates)"
   ]
  }
 ],
 "metadata": {
  "kernelspec": {
   "display_name": "rgroupinterm",
   "language": "python",
   "name": "python3"
  },
  "language_info": {
   "codemirror_mode": {
    "name": "ipython",
    "version": 3
   },
   "file_extension": ".py",
   "mimetype": "text/x-python",
   "name": "python",
   "nbconvert_exporter": "python",
   "pygments_lexer": "ipython3",
   "version": "3.10.12"
  }
 },
 "nbformat": 4,
 "nbformat_minor": 2
}
